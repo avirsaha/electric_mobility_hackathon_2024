{
 "cells": [
  {
   "cell_type": "markdown",
   "id": "c82facbb-f2ec-4389-a3bf-46e6dd632981",
   "metadata": {},
   "source": [
    "# I. Smart Charging Suggestion:"
   ]
  },
  {
   "cell_type": "markdown",
   "id": "89cb4e8e-3335-42c1-ac2f-5e70a7d733ba",
   "metadata": {},
   "source": [
    "## Steps of development followed:\n",
    "\n",
    "1. **Data Collection and Preprocessing:**\n",
    "   - Gather data on EV usage, including charging patterns, historical charging times, and relevant contextual data (e.g., time of day, day of the week, weather conditions).\n",
    "   - Preprocess the data to handle missing values, normalize numerical features, and encode categorical variables.\n",
    "\n",
    "2. **Define the Problem:**\n",
    "   - Clearly define the problem you want your deep learning model to solve. In this case, it's a regression problem where the model predicts the optimal charging time.\n",
    "\n",
    "3. **Feature Engineering:**\n",
    "   - Extract relevant features from the data that can help the model make accurate predictions. For example, you might create features such as time of day, day of the week, historical charging patterns, and external factors like weather conditions.\n",
    "\n",
    "4. **Split the Data:**\n",
    "   - Split your dataset into training, validation, and test sets. This helps in evaluating the model's performance on unseen data.\n",
    "\n",
    "5. **Model Selection:**\n",
    "   - Choose a deep learning architecture suitable for regression tasks. Recurrent Neural Networks (RNNs) or Long Short-Term Memory networks (LSTMs) can be useful for time-series data. Alternatively, you can use a feedforward neural network with appropriate layers.\n",
    "\n",
    "6. **Model Training:**\n",
    "   - Train your chosen model using the training data. Adjust hyperparameters based on the performance on the validation set to prevent overfitting.\n",
    "\n",
    "7. **Evaluation:**\n",
    "   - Evaluate the model's performance on the test set. Metrics such as Mean Squared Error (MSE) or Root Mean Squared Error (RMSE) can be used to measure the model's accuracy.\n",
    "\n",
    "8. **Integration with the EV System:**\n",
    "   - Once the model is trained and validated, integrate it into the EV charging system. The system should be able to take real-time input data, process it through the model, and provide optimal charging time suggestions.\n",
    "\n",
    "9. **User Interface:**\n",
    "   - Develop a user interface to display the suggested charging time to the EV owner. Consider providing additional information or visualizations that help the user understand the reasoning behind the suggestion.\n",
    "\n",
    "10. **Continuous Improvement:**\n",
    "   - Monitor the system's performance and gather additional data to continuously improve the model. Regularly update the model with new data to adapt to changing patterns.\n",
    "\n",
    "Remember to consider factors like electricity rates, user preferences, and any constraints related to charging infrastructure while developing the charging suggestion system. Also, ensure that the system complies with safety and security standards."
   ]
  },
  {
   "cell_type": "markdown",
   "id": "61d09bba-c338-40ac-a0da-0cb1d8c101ce",
   "metadata": {},
   "source": [
    "### Data Collection and Preprocessing:"
   ]
  },
  {
   "cell_type": "markdown",
   "id": "443da38c-0ced-4eed-aaa9-34906b8838b8",
   "metadata": {},
   "source": [
    "1. **Running Hours:**\n",
    "   - **Type of Data:** Time-series data indicating when the EV is in operation.\n",
    "   - **Collection Method:** Use GPS or vehicle tracking systems to record the timestamps when the EV is in motion.\n",
    "   - **Format:** Timestamped records of start and stop times for each running session.\n",
    "\n",
    "2. **Parking Locations:**\n",
    "   - **Type of Data:** Spatial data indicating the consistent parking locations of the EV.\n",
    "   - **Collection Method:** GPS or geolocation data logging when the EV is parked.\n",
    "   - **Format:** Latitude and longitude coordinates associated with each parking event.\n",
    "\n",
    "3. **Availability of Charging Infrastructure:**\n",
    "   - **Type of Data:** Binary or categorical data indicating the presence or absence of charging infrastructure.\n",
    "   - **Collection Method:** Create a database of charging station locations and their availability status.\n",
    "   - **Format:** Location data paired with a binary indicator (1 for available, 0 for unavailable).\n",
    "\n",
    "4. **Day Plans:**\n",
    "   - **Type of Data:** Categorical data representing user-planned activities for the day.\n",
    "   - **Collection Method:** User input through a mobile app or web interface where users can provide their schedules.\n",
    "   - **Format:** Categorical labels indicating planned activities for different times of the day.\n",
    "\n",
    "5. **Performance Data:**\n",
    "   - **Type of Data:** Metrics related to EV performance, such as battery health and energy efficiency.\n",
    "   - **Collection Method:** Onboard diagnostics or telemetry data from the EV.\n",
    "   - **Format:** Numerical metrics, possibly time-stamped, indicating performance characteristics.\n",
    "\n",
    "6. **Weather Conditions:**\n",
    "   - **Type of Data:** Meteorological data including temperature, precipitation, etc.\n",
    "   - **Collection Method:** Access weather APIs or use weather sensors.\n",
    "   - **Format:** Time-stamped records of relevant weather parameters.\n",
    "\n",
    "7. **Traffic and Road Conditions:**\n",
    "   - **Type of Data:** Real-time or historical data on traffic density and road conditions.\n",
    "   - **Collection Method:** Use traffic APIs, navigation systems, or integrate with traffic databases.\n",
    "   - **Format:** Time-stamped records of traffic conditions and road status.\n",
    "\n",
    "**Data Storage Format:**\n",
    "- Consider storing the collected data in a structured database (e.g., SQL database) or a time-series database, depending on the data types and volume.\n",
    "- CSV or JSON formats can be used for exporting and importing datasets.\n",
    "\n",
    "**Data Privacy Considerations:**\n",
    "- Ensure compliance with data protection regulations.\n",
    "- Anonymize or aggregate personally identifiable information (PII) where necessary."
   ]
  },
  {
   "cell_type": "markdown",
   "id": "7aba2aef-de09-4756-b0ab-87fd7f92cb53",
   "metadata": {},
   "source": [
    "### Problelm Scoping:"
   ]
  },
  {
   "cell_type": "markdown",
   "id": "5214e6d8-9138-45a0-a1db-304d772d333e",
   "metadata": {},
   "source": [
    "**Problem Statement for Smart Charging Suggestion System for Electric Vehicles:**\n",
    "\n",
    "The objective of this engineering project is to design and implement a robust Smart Charging Suggestion System (SCSS) for Electric Vehicles (EVs). The primary challenge addressed by this project is the optimization of EV charging schedules based on a multitude of dynamic factors. The system aims to intelligently recommend optimal time slots for EV charging, considering the diverse interplay of temporal, spatial, environmental, and user-specific variables.\n",
    "\n",
    "**Project Scope:**\n",
    "\n",
    "The SCSS aims to provide a comprehensive and adaptable solution that considers the aforementioned challenges. The developed system will leverage deep learning models, suitable for time-series analysis and regression tasks, to generate context-aware charging time suggestions. The scope also includes the integration of the SCSS into existing EV infrastructure, ensuring seamless interaction and user-friendly recommendations.\n",
    "\n",
    "**Success Criteria:**\n",
    "\n",
    "The success of the project will be evaluated based on the system's ability to consistently deliver accurate and personalized charging time suggestions, taking into account the dynamic nature of EV usage and external environmental factors. Performance metrics, including Mean Squared Error (MSE) and user satisfaction surveys, will be utilized to measure the effectiveness and user acceptance of the implemented SCSS."
   ]
  },
  {
   "cell_type": "markdown",
   "id": "cefc1cbb-fcd3-4389-bf0b-079f261dcc96",
   "metadata": {},
   "source": [
    "### Features Engineering:"
   ]
  },
  {
   "cell_type": "markdown",
   "id": "1f4791a6-9cf5-4a1b-977f-29976ecf27cb",
   "metadata": {},
   "source": [
    "1. **Running Hours:**\n",
    "   - Feature Representation: A time-series representation indicating the specific timeslots during which the EV is regularly in operation.\n",
    "   - Purpose: Captures the temporal patterns of EV usage, helping the model understand the preferred time intervals for travel.\n",
    "\n",
    "2. **Parking Locations:**\n",
    "   - Feature Representation: A spatial representation denoting the consistent locations where the EV is parked.\n",
    "   - Purpose: Allows the model to identify common parking spots, potentially influencing charging time recommendations based on proximity to charging infrastructure.\n",
    "\n",
    "3. **Availability of Charging Infrastructure:**\n",
    "   - Feature Representation: Binary or categorical data indicating the presence or absence of charging infrastructure at specific locations.\n",
    "   - Purpose: Guides the model in recommending charging times based on the accessibility and availability of charging stations near the frequent parking locations.\n",
    "\n",
    "4. **Day Plans:**\n",
    "   - Feature Representation: Categorical data representing user-provided plans for the day (e.g., work hours, appointments).\n",
    "   - Purpose: Incorporates user intentions into the model, influencing the suggested charging times to align with the user's daily schedule and planned activities.\n",
    "\n",
    "5. **Performance Data:**\n",
    "   - Feature Representation: Metrics related to the EV's performance, such as battery health, energy efficiency, or historical charging behavior.\n",
    "   - Purpose: Provides insights into the EV's condition, assisting the model in tailoring charging suggestions based on the vehicle's overall performance characteristics.\n",
    "\n",
    "6. **Weather Conditions:**\n",
    "   - Feature Representation: Meteorological data including temperature, precipitation, and other relevant weather parameters.\n",
    "   - Purpose: Enables the model to consider weather-related factors affecting the EV's energy consumption and charging needs, optimizing suggestions for different weather conditions.\n",
    "\n",
    "7. **Traffic and Road Conditions:**\n",
    "   - Feature Representation: Real-time or historical data on traffic density, road congestion, and condition of roads.\n",
    "   - Purpose: Incorporates external factors affecting travel times, allowing the model to adapt charging suggestions based on expected delays or variations in travel conditions."
   ]
  },
  {
   "cell_type": "markdown",
   "id": "a051eaa6-2ba6-4e38-9785-9db7718948f0",
   "metadata": {},
   "source": [
    "### Model Selection:"
   ]
  },
  {
   "cell_type": "code",
   "execution_count": null,
   "id": "0918f77f-c139-471a-b6f2-59f7b3e63b84",
   "metadata": {},
   "outputs": [],
   "source": []
  },
  {
   "cell_type": "markdown",
   "id": "2bc822b2-6413-4f19-9a8f-f21bb08788d0",
   "metadata": {},
   "source": [
    "### Model Training:"
   ]
  },
  {
   "cell_type": "markdown",
   "id": "e4bc1572-ffc9-48bb-af48-0dea852223cc",
   "metadata": {},
   "source": [
    "#### Installing Packages:"
   ]
  },
  {
   "cell_type": "code",
   "execution_count": 18,
   "id": "ec6d7ece-e196-4531-894c-747775c3056a",
   "metadata": {},
   "outputs": [
    {
     "name": "stdout",
     "output_type": "stream",
     "text": [
      "Requirement already satisfied: pandas in d:\\aviraj\\ev_hackathon\\.venv\\lib\\site-packages (2.1.4)\n",
      "Requirement already satisfied: numpy<2,>=1.23.2 in d:\\aviraj\\ev_hackathon\\.venv\\lib\\site-packages (from pandas) (1.26.3)\n",
      "Requirement already satisfied: python-dateutil>=2.8.2 in d:\\aviraj\\ev_hackathon\\.venv\\lib\\site-packages (from pandas) (2.8.2)\n",
      "Requirement already satisfied: pytz>=2020.1 in d:\\aviraj\\ev_hackathon\\.venv\\lib\\site-packages (from pandas) (2023.3.post1)\n",
      "Requirement already satisfied: tzdata>=2022.1 in d:\\aviraj\\ev_hackathon\\.venv\\lib\\site-packages (from pandas) (2023.4)\n",
      "Requirement already satisfied: six>=1.5 in d:\\aviraj\\ev_hackathon\\.venv\\lib\\site-packages (from python-dateutil>=2.8.2->pandas) (1.16.0)\n",
      "^C\n"
     ]
    }
   ],
   "source": [
    "!pip install pandas;\n",
    "!pip install plotly"
   ]
  },
  {
   "cell_type": "markdown",
   "id": "1eabde99-3e0c-4eed-a066-e74087d652a4",
   "metadata": {},
   "source": [
    "#### Importing necessary libraries:"
   ]
  },
  {
   "cell_type": "code",
   "execution_count": 20,
   "id": "9a48584d-8c0f-4f40-a8d5-5a806b49b7aa",
   "metadata": {},
   "outputs": [],
   "source": [
    "import pandas as pd\n",
    "from sklearn.ensemble import RandomForestRegressor\n",
    "from sklearn.preprocessing import OneHotEncoder\n",
    "from sklearn.compose import ColumnTransformer\n",
    "from sklearn.pipeline import Pipeline\n",
    "import matplotlib.pyplot as plt\n",
    "import plotly.express as px\n",
    "import joblib"
   ]
  },
  {
   "cell_type": "markdown",
   "id": "d0a4b056-1ffe-468b-a019-02be502d5987",
   "metadata": {},
   "source": [
    "#### Loading dataset and setting target variable:"
   ]
  },
  {
   "cell_type": "code",
   "execution_count": 21,
   "id": "91cd931e-1fc6-4fa3-aca6-cb4b1f488988",
   "metadata": {},
   "outputs": [],
   "source": [
    "# Load your dataset (replace 'your_data.csv' with the actual filename)\n",
    "data = pd.read_csv('../data/training_dataset/data.csv')\n",
    "\n",
    "# Target variable\n",
    "target = 'ChargingStartTime'  # You can choose 'ChargingEndTime' if needed"
   ]
  },
  {
   "cell_type": "markdown",
   "id": "f0918c9f-a56e-4da2-b38e-f411eee5a602",
   "metadata": {},
   "source": [
    "#### Features for the regression model:"
   ]
  },
  {
   "cell_type": "code",
   "execution_count": 22,
   "id": "842c21a5-975c-41e4-90ba-cd8481018a89",
   "metadata": {},
   "outputs": [],
   "source": [
    "# Features for the regression model\n",
    "features = ['ParkingLocations', 'ChargingInfrastructure', 'ParkingStartTime', 'ParkingEndTime',\n",
    "            'BatteryPercentage', 'DistanceFromHome', 'TrafficConditions', 'VehiclePerformance',\n",
    "            'ChargingTimeRequired']\n",
    "\n"
   ]
  },
  {
   "cell_type": "markdown",
   "id": "2245cb49-c84e-4963-ab6c-5ed3ba937f2e",
   "metadata": {},
   "source": [
    "#### Extract features and target variable:"
   ]
  },
  {
   "cell_type": "code",
   "execution_count": 23,
   "id": "dd243296-2637-4509-bad8-e636498644b8",
   "metadata": {},
   "outputs": [],
   "source": [
    "# Extract features and target variable\n",
    "X = data[features].copy()  # Create a copy of the DataFrame\n",
    "y = pd.to_datetime(data[target], format='%I:%M %p').dt.hour * 60 + pd.to_datetime(data[target], format='%I:%M %p').dt.minute\n"
   ]
  },
  {
   "cell_type": "markdown",
   "id": "f278f411-59e3-42f7-80ef-2c6cb619c1bf",
   "metadata": {},
   "source": [
    "#### Init and Preprocessing:"
   ]
  },
  {
   "cell_type": "code",
   "execution_count": 24,
   "id": "27c76a0e-b355-413f-814e-9365a1605a9d",
   "metadata": {},
   "outputs": [],
   "source": [
    "\n",
    "# Convert time columns to numerical values using apply\n",
    "X[['ParkingStartTime', 'ParkingEndTime']] = X[['ParkingStartTime', 'ParkingEndTime']].apply(lambda col: pd.to_datetime(col, format='%I:%M %p').dt.hour * 60 + pd.to_datetime(col, format='%I:%M %p').dt.minute)\n",
    "\n",
    "# Define a preprocessor using ColumnTransformer and Pipeline\n",
    "preprocessor = ColumnTransformer(\n",
    "    transformers=[\n",
    "        ('num', 'passthrough', ['ParkingStartTime', 'ParkingEndTime', 'BatteryPercentage', 'DistanceFromHome']),\n",
    "        ('cat', OneHotEncoder(handle_unknown='ignore'), ['ParkingLocations', 'TrafficConditions', 'VehiclePerformance'])\n",
    "    ])\n",
    "\n",
    "# Create a pipeline with preprocessor and Random Forest Regressor model\n",
    "charging_time_model = Pipeline([\n",
    "    ('preprocessor', preprocessor),\n",
    "    ('regressor', RandomForestRegressor(n_estimators=100, random_state=42))\n",
    "])"
   ]
  },
  {
   "cell_type": "markdown",
   "id": "630df9a1-1390-4b54-9b2c-2890b7f5969b",
   "metadata": {},
   "source": [
    "#### Random Forest Regression Model training:"
   ]
  },
  {
   "cell_type": "code",
   "execution_count": 25,
   "id": "93c3060b-01a2-407f-a979-f5bb27063559",
   "metadata": {},
   "outputs": [
    {
     "data": {
      "text/html": [
       "<style>#sk-container-id-2 {color: black;}#sk-container-id-2 pre{padding: 0;}#sk-container-id-2 div.sk-toggleable {background-color: white;}#sk-container-id-2 label.sk-toggleable__label {cursor: pointer;display: block;width: 100%;margin-bottom: 0;padding: 0.3em;box-sizing: border-box;text-align: center;}#sk-container-id-2 label.sk-toggleable__label-arrow:before {content: \"▸\";float: left;margin-right: 0.25em;color: #696969;}#sk-container-id-2 label.sk-toggleable__label-arrow:hover:before {color: black;}#sk-container-id-2 div.sk-estimator:hover label.sk-toggleable__label-arrow:before {color: black;}#sk-container-id-2 div.sk-toggleable__content {max-height: 0;max-width: 0;overflow: hidden;text-align: left;background-color: #f0f8ff;}#sk-container-id-2 div.sk-toggleable__content pre {margin: 0.2em;color: black;border-radius: 0.25em;background-color: #f0f8ff;}#sk-container-id-2 input.sk-toggleable__control:checked~div.sk-toggleable__content {max-height: 200px;max-width: 100%;overflow: auto;}#sk-container-id-2 input.sk-toggleable__control:checked~label.sk-toggleable__label-arrow:before {content: \"▾\";}#sk-container-id-2 div.sk-estimator input.sk-toggleable__control:checked~label.sk-toggleable__label {background-color: #d4ebff;}#sk-container-id-2 div.sk-label input.sk-toggleable__control:checked~label.sk-toggleable__label {background-color: #d4ebff;}#sk-container-id-2 input.sk-hidden--visually {border: 0;clip: rect(1px 1px 1px 1px);clip: rect(1px, 1px, 1px, 1px);height: 1px;margin: -1px;overflow: hidden;padding: 0;position: absolute;width: 1px;}#sk-container-id-2 div.sk-estimator {font-family: monospace;background-color: #f0f8ff;border: 1px dotted black;border-radius: 0.25em;box-sizing: border-box;margin-bottom: 0.5em;}#sk-container-id-2 div.sk-estimator:hover {background-color: #d4ebff;}#sk-container-id-2 div.sk-parallel-item::after {content: \"\";width: 100%;border-bottom: 1px solid gray;flex-grow: 1;}#sk-container-id-2 div.sk-label:hover label.sk-toggleable__label {background-color: #d4ebff;}#sk-container-id-2 div.sk-serial::before {content: \"\";position: absolute;border-left: 1px solid gray;box-sizing: border-box;top: 0;bottom: 0;left: 50%;z-index: 0;}#sk-container-id-2 div.sk-serial {display: flex;flex-direction: column;align-items: center;background-color: white;padding-right: 0.2em;padding-left: 0.2em;position: relative;}#sk-container-id-2 div.sk-item {position: relative;z-index: 1;}#sk-container-id-2 div.sk-parallel {display: flex;align-items: stretch;justify-content: center;background-color: white;position: relative;}#sk-container-id-2 div.sk-item::before, #sk-container-id-2 div.sk-parallel-item::before {content: \"\";position: absolute;border-left: 1px solid gray;box-sizing: border-box;top: 0;bottom: 0;left: 50%;z-index: -1;}#sk-container-id-2 div.sk-parallel-item {display: flex;flex-direction: column;z-index: 1;position: relative;background-color: white;}#sk-container-id-2 div.sk-parallel-item:first-child::after {align-self: flex-end;width: 50%;}#sk-container-id-2 div.sk-parallel-item:last-child::after {align-self: flex-start;width: 50%;}#sk-container-id-2 div.sk-parallel-item:only-child::after {width: 0;}#sk-container-id-2 div.sk-dashed-wrapped {border: 1px dashed gray;margin: 0 0.4em 0.5em 0.4em;box-sizing: border-box;padding-bottom: 0.4em;background-color: white;}#sk-container-id-2 div.sk-label label {font-family: monospace;font-weight: bold;display: inline-block;line-height: 1.2em;}#sk-container-id-2 div.sk-label-container {text-align: center;}#sk-container-id-2 div.sk-container {/* jupyter's `normalize.less` sets `[hidden] { display: none; }` but bootstrap.min.css set `[hidden] { display: none !important; }` so we also need the `!important` here to be able to override the default hidden behavior on the sphinx rendered scikit-learn.org. See: https://github.com/scikit-learn/scikit-learn/issues/21755 */display: inline-block !important;position: relative;}#sk-container-id-2 div.sk-text-repr-fallback {display: none;}</style><div id=\"sk-container-id-2\" class=\"sk-top-container\"><div class=\"sk-text-repr-fallback\"><pre>Pipeline(steps=[(&#x27;preprocessor&#x27;,\n",
       "                 ColumnTransformer(transformers=[(&#x27;num&#x27;, &#x27;passthrough&#x27;,\n",
       "                                                  [&#x27;ParkingStartTime&#x27;,\n",
       "                                                   &#x27;ParkingEndTime&#x27;,\n",
       "                                                   &#x27;BatteryPercentage&#x27;,\n",
       "                                                   &#x27;DistanceFromHome&#x27;]),\n",
       "                                                 (&#x27;cat&#x27;,\n",
       "                                                  OneHotEncoder(handle_unknown=&#x27;ignore&#x27;),\n",
       "                                                  [&#x27;ParkingLocations&#x27;,\n",
       "                                                   &#x27;TrafficConditions&#x27;,\n",
       "                                                   &#x27;VehiclePerformance&#x27;])])),\n",
       "                (&#x27;regressor&#x27;, RandomForestRegressor(random_state=42))])</pre><b>In a Jupyter environment, please rerun this cell to show the HTML representation or trust the notebook. <br />On GitHub, the HTML representation is unable to render, please try loading this page with nbviewer.org.</b></div><div class=\"sk-container\" hidden><div class=\"sk-item sk-dashed-wrapped\"><div class=\"sk-label-container\"><div class=\"sk-label sk-toggleable\"><input class=\"sk-toggleable__control sk-hidden--visually\" id=\"sk-estimator-id-8\" type=\"checkbox\" ><label for=\"sk-estimator-id-8\" class=\"sk-toggleable__label sk-toggleable__label-arrow\">Pipeline</label><div class=\"sk-toggleable__content\"><pre>Pipeline(steps=[(&#x27;preprocessor&#x27;,\n",
       "                 ColumnTransformer(transformers=[(&#x27;num&#x27;, &#x27;passthrough&#x27;,\n",
       "                                                  [&#x27;ParkingStartTime&#x27;,\n",
       "                                                   &#x27;ParkingEndTime&#x27;,\n",
       "                                                   &#x27;BatteryPercentage&#x27;,\n",
       "                                                   &#x27;DistanceFromHome&#x27;]),\n",
       "                                                 (&#x27;cat&#x27;,\n",
       "                                                  OneHotEncoder(handle_unknown=&#x27;ignore&#x27;),\n",
       "                                                  [&#x27;ParkingLocations&#x27;,\n",
       "                                                   &#x27;TrafficConditions&#x27;,\n",
       "                                                   &#x27;VehiclePerformance&#x27;])])),\n",
       "                (&#x27;regressor&#x27;, RandomForestRegressor(random_state=42))])</pre></div></div></div><div class=\"sk-serial\"><div class=\"sk-item sk-dashed-wrapped\"><div class=\"sk-label-container\"><div class=\"sk-label sk-toggleable\"><input class=\"sk-toggleable__control sk-hidden--visually\" id=\"sk-estimator-id-9\" type=\"checkbox\" ><label for=\"sk-estimator-id-9\" class=\"sk-toggleable__label sk-toggleable__label-arrow\">preprocessor: ColumnTransformer</label><div class=\"sk-toggleable__content\"><pre>ColumnTransformer(transformers=[(&#x27;num&#x27;, &#x27;passthrough&#x27;,\n",
       "                                 [&#x27;ParkingStartTime&#x27;, &#x27;ParkingEndTime&#x27;,\n",
       "                                  &#x27;BatteryPercentage&#x27;, &#x27;DistanceFromHome&#x27;]),\n",
       "                                (&#x27;cat&#x27;, OneHotEncoder(handle_unknown=&#x27;ignore&#x27;),\n",
       "                                 [&#x27;ParkingLocations&#x27;, &#x27;TrafficConditions&#x27;,\n",
       "                                  &#x27;VehiclePerformance&#x27;])])</pre></div></div></div><div class=\"sk-parallel\"><div class=\"sk-parallel-item\"><div class=\"sk-item\"><div class=\"sk-label-container\"><div class=\"sk-label sk-toggleable\"><input class=\"sk-toggleable__control sk-hidden--visually\" id=\"sk-estimator-id-10\" type=\"checkbox\" ><label for=\"sk-estimator-id-10\" class=\"sk-toggleable__label sk-toggleable__label-arrow\">num</label><div class=\"sk-toggleable__content\"><pre>[&#x27;ParkingStartTime&#x27;, &#x27;ParkingEndTime&#x27;, &#x27;BatteryPercentage&#x27;, &#x27;DistanceFromHome&#x27;]</pre></div></div></div><div class=\"sk-serial\"><div class=\"sk-item\"><div class=\"sk-estimator sk-toggleable\"><input class=\"sk-toggleable__control sk-hidden--visually\" id=\"sk-estimator-id-11\" type=\"checkbox\" ><label for=\"sk-estimator-id-11\" class=\"sk-toggleable__label sk-toggleable__label-arrow\">passthrough</label><div class=\"sk-toggleable__content\"><pre>passthrough</pre></div></div></div></div></div></div><div class=\"sk-parallel-item\"><div class=\"sk-item\"><div class=\"sk-label-container\"><div class=\"sk-label sk-toggleable\"><input class=\"sk-toggleable__control sk-hidden--visually\" id=\"sk-estimator-id-12\" type=\"checkbox\" ><label for=\"sk-estimator-id-12\" class=\"sk-toggleable__label sk-toggleable__label-arrow\">cat</label><div class=\"sk-toggleable__content\"><pre>[&#x27;ParkingLocations&#x27;, &#x27;TrafficConditions&#x27;, &#x27;VehiclePerformance&#x27;]</pre></div></div></div><div class=\"sk-serial\"><div class=\"sk-item\"><div class=\"sk-estimator sk-toggleable\"><input class=\"sk-toggleable__control sk-hidden--visually\" id=\"sk-estimator-id-13\" type=\"checkbox\" ><label for=\"sk-estimator-id-13\" class=\"sk-toggleable__label sk-toggleable__label-arrow\">OneHotEncoder</label><div class=\"sk-toggleable__content\"><pre>OneHotEncoder(handle_unknown=&#x27;ignore&#x27;)</pre></div></div></div></div></div></div></div></div><div class=\"sk-item\"><div class=\"sk-estimator sk-toggleable\"><input class=\"sk-toggleable__control sk-hidden--visually\" id=\"sk-estimator-id-14\" type=\"checkbox\" ><label for=\"sk-estimator-id-14\" class=\"sk-toggleable__label sk-toggleable__label-arrow\">RandomForestRegressor</label><div class=\"sk-toggleable__content\"><pre>RandomForestRegressor(random_state=42)</pre></div></div></div></div></div></div></div>"
      ],
      "text/plain": [
       "Pipeline(steps=[('preprocessor',\n",
       "                 ColumnTransformer(transformers=[('num', 'passthrough',\n",
       "                                                  ['ParkingStartTime',\n",
       "                                                   'ParkingEndTime',\n",
       "                                                   'BatteryPercentage',\n",
       "                                                   'DistanceFromHome']),\n",
       "                                                 ('cat',\n",
       "                                                  OneHotEncoder(handle_unknown='ignore'),\n",
       "                                                  ['ParkingLocations',\n",
       "                                                   'TrafficConditions',\n",
       "                                                   'VehiclePerformance'])])),\n",
       "                ('regressor', RandomForestRegressor(random_state=42))])"
      ]
     },
     "execution_count": 25,
     "metadata": {},
     "output_type": "execute_result"
    }
   ],
   "source": [
    "# Train the model on the entire dataset\n",
    "charging_time_model.fit(X, y)\n"
   ]
  },
  {
   "cell_type": "markdown",
   "id": "63972c11-8866-4301-87de-e04ac38eb984",
   "metadata": {},
   "source": [
    "#### Saving the trained model:"
   ]
  },
  {
   "cell_type": "code",
   "execution_count": 26,
   "id": "11d215f3-9100-4230-902c-21bf78144b59",
   "metadata": {},
   "outputs": [
    {
     "data": {
      "text/plain": [
       "['charging_time_model.joblib']"
      ]
     },
     "execution_count": 26,
     "metadata": {},
     "output_type": "execute_result"
    }
   ],
   "source": [
    "# Save the trained model to a file\n",
    "joblib.dump(charging_time_model, 'charging_time_model.joblib')\n"
   ]
  },
  {
   "cell_type": "markdown",
   "id": "dc2c6f66-d43c-41a1-ac50-aa06bab73ed9",
   "metadata": {},
   "source": [
    "#### Evaluation:"
   ]
  },
  {
   "cell_type": "code",
   "execution_count": 27,
   "id": "b57aeabb-a2d3-478d-9c74-86723e4ebe6a",
   "metadata": {},
   "outputs": [
    {
     "name": "stdout",
     "output_type": "stream",
     "text": [
      "Predicted Charging Time Slots (Start, Stop) in 12-hour format:\n",
      "[('12:39 PM', '01:41 PM'), ('04:32 PM', '06:06 PM'), ('07:31 PM', '08:19 PM'), ('07:54 PM', '08:56 PM')]\n"
     ]
    }
   ],
   "source": [
    "# Load the pre-trained model from the file\n",
    "charging_time_model = joblib.load('charging_time_model.joblib')\n",
    "\n",
    "# Load the data for which you want to predict charging slots\n",
    "new_data = pd.read_csv('../data/testing_dataset/data.csv')  # Replace 'new_data.csv' with your actual file name\n",
    "\n",
    "# Assuming your CSV file has similar columns as used during training\n",
    "features = ['ParkingLocations', 'ChargingInfrastructure', 'ParkingStartTime', 'ParkingEndTime',\n",
    "            'BatteryPercentage', 'DistanceFromHome', 'TrafficConditions', 'VehiclePerformance',\n",
    "            'ChargingTimeRequired']\n",
    "\n",
    "# Convert time columns to numerical values using apply\n",
    "new_data[['ParkingStartTime', 'ParkingEndTime']] = new_data[['ParkingStartTime', 'ParkingEndTime']].apply(\n",
    "    lambda col: pd.to_datetime(col, format='%I:%M %p').dt.hour * 60 + pd.to_datetime(col, format='%I:%M %p').dt.minute)\n",
    "\n",
    "# Make predictions on the new data\n",
    "charging_time_predictions = charging_time_model.predict(new_data[features])\n",
    "\n",
    "# Calculate end time based on required charging time and battery percentage\n",
    "required_charging_time = new_data['ChargingTimeRequired']  # replace 'ChargingTimeRequired' with the actual column name\n",
    "battery_percentage = new_data['BatteryPercentage']  # replace 'BatteryPercentage' with the actual column name\n",
    "charging_end_times = charging_time_predictions + required_charging_time + (100 - battery_percentage) * 0.1  # Assuming 0.1 minutes for each percentage point\n",
    "\n",
    "# Format both the predicted start time and end time directly to 12-hour format\n",
    "charging_time_predictions_12hr = pd.to_datetime(charging_time_predictions, unit='m').strftime('%I:%M %p')\n",
    "charging_end_times_12hr = pd.to_datetime(charging_end_times, unit='m').dt.strftime('%I:%M %p')\n",
    "\n",
    "# Create pairs of start and stop times for each predicted time slot\n",
    "charging_time_slots = list(zip(charging_time_predictions_12hr, charging_end_times_12hr))\n",
    "\n",
    "# Print or use charging_time_slots as needed\n",
    "print(\"Predicted Charging Time Slots (Start, Stop) in 12-hour format:\")\n",
    "print(charging_time_slots)\n"
   ]
  },
  {
   "cell_type": "markdown",
   "id": "ffe653a1-103d-4672-b8b4-d4474bd3ae26",
   "metadata": {},
   "source": [
    "#### Visualization:"
   ]
  },
  {
   "cell_type": "code",
   "execution_count": 28,
   "id": "b383b160-d4d1-4c93-b42b-025014364a1c",
   "metadata": {},
   "outputs": [
    {
     "data": {
      "image/png": "[encoded data removed]",
      "text/plain": [
       "<Figure size 1200x600 with 1 Axes>"
      ]
     },
     "metadata": {},
     "output_type": "display_data"
    }
   ],
   "source": [
    "# Plotting the data\n",
    "plt.figure(figsize=(12, 6))\n",
    "\n",
    "# Plot parking time slots\n",
    "plt.plot(new_data['ParkingStartTime'], [1] * len(new_data), 'ro', label='Parking Start Time')\n",
    "plt.plot(new_data['ParkingEndTime'], [1] * len(new_data), 'bo', label='Parking End Time')\n",
    "\n",
    "# Plot charging time slots\n",
    "plt.plot(charging_time_predictions, [2] * len(new_data), 'go', label='Charging Start Time')\n",
    "plt.plot(charging_end_times, [2] * len(new_data), 'mo', label='Charging End Time')\n",
    "\n",
    "plt.yticks([1, 2], ['Parking', 'Charging'])\n",
    "plt.xlabel('Time (minutes)')\n",
    "plt.title('Parking Time Slots vs Charging Time Slots')\n",
    "plt.legend()\n",
    "plt.show()"
   ]
  },
  {
   "cell_type": "code",
   "execution_count": 30,
   "id": "954c0aa2-3d9b-43ec-aad8-d87eb241dd4b",
   "metadata": {},
   "outputs": [
    {
     "data": {
      "application/vnd.plotly.v1+json": {
       "config": {
        "plotlyServerURL": "https://plot.ly"
       },
       "data": [
        {
         "alignmentgroup": "True",
         "base": [
          420,
          540,
          1080,
          1230,
          759.6,
          992.1,
          1171.5,
          1194.9
         ],
         "hovertemplate": "Start=%{base}<br>Finish=%{x}<br>Event=%{y}<extra></extra>",
         "legendgroup": "",
         "marker": {
          "color": "#636efa",
          "pattern": {
           "shape": ""
          }
         },
         "name": "",
         "offsetgroup": "",
         "orientation": "h",
         "showlegend": false,
         "textposition": "auto",
         "type": "bar",
         "x": [
          9e-05,
          0.00048,
          9e-05,
          9e-05,
          6.2e-05,
          9.4e-05,
          4.8e-05,
          6.2e-05
         ],
         "xaxis": "x",
         "y": [
          "Parking",
          "Charging",
          "Parking",
          "Charging",
          "Parking",
          "Charging",
          "Parking",
          "Charging"
         ],
         "yaxis": "y"
        }
       ],
       "layout": {
        "barmode": "overlay",
        "legend": {
         "tracegroupgap": 0
        },
        "margin": {
         "t": 60
        },
        "template": {
         "data": {
          "bar": [
           {
            "error_x": {
             "color": "#2a3f5f"
            },
            "error_y": {
             "color": "#2a3f5f"
            },
            "marker": {
             "line": {
              "color": "#E5ECF6",
              "width": 0.5
             },
             "pattern": {
              "fillmode": "overlay",
              "size": 10,
              "solidity": 0.2
             }
            },
            "type": "bar"
           }
          ],
          "barpolar": [
           {
            "marker": {
             "line": {
              "color": "#E5ECF6",
              "width": 0.5
             },
             "pattern": {
              "fillmode": "overlay",
              "size": 10,
              "solidity": 0.2
             }
            },
            "type": "barpolar"
           }
          ],
          "carpet": [
           {
            "aaxis": {
             "endlinecolor": "#2a3f5f",
             "gridcolor": "white",
             "linecolor": "white",
             "minorgridcolor": "white",
             "startlinecolor": "#2a3f5f"
            },
            "baxis": {
             "endlinecolor": "#2a3f5f",
             "gridcolor": "white",
             "linecolor": "white",
             "minorgridcolor": "white",
             "startlinecolor": "#2a3f5f"
            },
            "type": "carpet"
           }
          ],
          "choropleth": [
           {
            "colorbar": {
             "outlinewidth": 0,
             "ticks": ""
            },
            "type": "choropleth"
           }
          ],
          "contour": [
           {
            "colorbar": {
             "outlinewidth": 0,
             "ticks": ""
            },
            "colorscale": [
             [
              0,
              "#0d0887"
             ],
             [
              0.1111111111111111,
              "#46039f"
             ],
             [
              0.2222222222222222,
              "#7201a8"
             ],
             [
              0.3333333333333333,
              "#9c179e"
             ],
             [
              0.4444444444444444,
              "#bd3786"
             ],
             [
              0.5555555555555556,
              "#d8576b"
             ],
             [
              0.6666666666666666,
              "#ed7953"
             ],
             [
              0.7777777777777778,
              "#fb9f3a"
             ],
             [
              0.8888888888888888,
              "#fdca26"
             ],
             [
              1,
              "#f0f921"
             ]
            ],
            "type": "contour"
           }
          ],
          "contourcarpet": [
           {
            "colorbar": {
             "outlinewidth": 0,
             "ticks": ""
            },
            "type": "contourcarpet"
           }
          ],
          "heatmap": [
           {
            "colorbar": {
             "outlinewidth": 0,
             "ticks": ""
            },
            "colorscale": [
             [
              0,
              "#0d0887"
             ],
             [
              0.1111111111111111,
              "#46039f"
             ],
             [
              0.2222222222222222,
              "#7201a8"
             ],
             [
              0.3333333333333333,
              "#9c179e"
             ],
             [
              0.4444444444444444,
              "#bd3786"
             ],
             [
              0.5555555555555556,
              "#d8576b"
             ],
             [
              0.6666666666666666,
              "#ed7953"
             ],
             [
              0.7777777777777778,
              "#fb9f3a"
             ],
             [
              0.8888888888888888,
              "#fdca26"
             ],
             [
              1,
              "#f0f921"
             ]
            ],
            "type": "heatmap"
           }
          ],
          "heatmapgl": [
           {
            "colorbar": {
             "outlinewidth": 0,
             "ticks": ""
            },
            "colorscale": [
             [
              0,
              "#0d0887"
             ],
             [
              0.1111111111111111,
              "#46039f"
             ],
             [
              0.2222222222222222,
              "#7201a8"
             ],
             [
              0.3333333333333333,
              "#9c179e"
             ],
             [
              0.4444444444444444,
              "#bd3786"
             ],
             [
              0.5555555555555556,
              "#d8576b"
             ],
             [
              0.6666666666666666,
              "#ed7953"
             ],
             [
              0.7777777777777778,
              "#fb9f3a"
             ],
             [
              0.8888888888888888,
              "#fdca26"
             ],
             [
              1,
              "#f0f921"
             ]
            ],
            "type": "heatmapgl"
           }
          ],
          "histogram": [
           {
            "marker": {
             "pattern": {
              "fillmode": "overlay",
              "size": 10,
              "solidity": 0.2
             }
            },
            "type": "histogram"
           }
          ],
          "histogram2d": [
           {
            "colorbar": {
             "outlinewidth": 0,
             "ticks": ""
            },
            "colorscale": [
             [
              0,
              "#0d0887"
             ],
             [
              0.1111111111111111,
              "#46039f"
             ],
             [
              0.2222222222222222,
              "#7201a8"
             ],
             [
              0.3333333333333333,
              "#9c179e"
             ],
             [
              0.4444444444444444,
              "#bd3786"
             ],
             [
              0.5555555555555556,
              "#d8576b"
             ],
             [
              0.6666666666666666,
              "#ed7953"
             ],
             [
              0.7777777777777778,
              "#fb9f3a"
             ],
             [
              0.8888888888888888,
              "#fdca26"
             ],
             [
              1,
              "#f0f921"
             ]
            ],
            "type": "histogram2d"
           }
          ],
          "histogram2dcontour": [
           {
            "colorbar": {
             "outlinewidth": 0,
             "ticks": ""
            },
            "colorscale": [
             [
              0,
              "#0d0887"
             ],
             [
              0.1111111111111111,
              "#46039f"
             ],
             [
              0.2222222222222222,
              "#7201a8"
             ],
             [
              0.3333333333333333,
              "#9c179e"
             ],
             [
              0.4444444444444444,
              "#bd3786"
             ],
             [
              0.5555555555555556,
              "#d8576b"
             ],
             [
              0.6666666666666666,
              "#ed7953"
             ],
             [
              0.7777777777777778,
              "#fb9f3a"
             ],
             [
              0.8888888888888888,
              "#fdca26"
             ],
             [
              1,
              "#f0f921"
             ]
            ],
            "type": "histogram2dcontour"
           }
          ],
          "mesh3d": [
           {
            "colorbar": {
             "outlinewidth": 0,
             "ticks": ""
            },
            "type": "mesh3d"
           }
          ],
          "parcoords": [
           {
            "line": {
             "colorbar": {
              "outlinewidth": 0,
              "ticks": ""
             }
            },
            "type": "parcoords"
           }
          ],
          "pie": [
           {
            "automargin": true,
            "type": "pie"
           }
          ],
          "scatter": [
           {
            "fillpattern": {
             "fillmode": "overlay",
             "size": 10,
             "solidity": 0.2
            },
            "type": "scatter"
           }
          ],
          "scatter3d": [
           {
            "line": {
             "colorbar": {
              "outlinewidth": 0,
              "ticks": ""
             }
            },
            "marker": {
             "colorbar": {
              "outlinewidth": 0,
              "ticks": ""
             }
            },
            "type": "scatter3d"
           }
          ],
          "scattercarpet": [
           {
            "marker": {
             "colorbar": {
              "outlinewidth": 0,
              "ticks": ""
             }
            },
            "type": "scattercarpet"
           }
          ],
          "scattergeo": [
           {
            "marker": {
             "colorbar": {
              "outlinewidth": 0,
              "ticks": ""
             }
            },
            "type": "scattergeo"
           }
          ],
          "scattergl": [
           {
            "marker": {
             "colorbar": {
              "outlinewidth": 0,
              "ticks": ""
             }
            },
            "type": "scattergl"
           }
          ],
          "scattermapbox": [
           {
            "marker": {
             "colorbar": {
              "outlinewidth": 0,
              "ticks": ""
             }
            },
            "type": "scattermapbox"
           }
          ],
          "scatterpolar": [
           {
            "marker": {
             "colorbar": {
              "outlinewidth": 0,
              "ticks": ""
             }
            },
            "type": "scatterpolar"
           }
          ],
          "scatterpolargl": [
           {
            "marker": {
             "colorbar": {
              "outlinewidth": 0,
              "ticks": ""
             }
            },
            "type": "scatterpolargl"
           }
          ],
          "scatterternary": [
           {
            "marker": {
             "colorbar": {
              "outlinewidth": 0,
              "ticks": ""
             }
            },
            "type": "scatterternary"
           }
          ],
          "surface": [
           {
            "colorbar": {
             "outlinewidth": 0,
             "ticks": ""
            },
            "colorscale": [
             [
              0,
              "#0d0887"
             ],
             [
              0.1111111111111111,
              "#46039f"
             ],
             [
              0.2222222222222222,
              "#7201a8"
             ],
             [
              0.3333333333333333,
              "#9c179e"
             ],
             [
              0.4444444444444444,
              "#bd3786"
             ],
             [
              0.5555555555555556,
              "#d8576b"
             ],
             [
              0.6666666666666666,
              "#ed7953"
             ],
             [
              0.7777777777777778,
              "#fb9f3a"
             ],
             [
              0.8888888888888888,
              "#fdca26"
             ],
             [
              1,
              "#f0f921"
             ]
            ],
            "type": "surface"
           }
          ],
          "table": [
           {
            "cells": {
             "fill": {
              "color": "#EBF0F8"
             },
             "line": {
              "color": "white"
             }
            },
            "header": {
             "fill": {
              "color": "#C8D4E3"
             },
             "line": {
              "color": "white"
             }
            },
            "type": "table"
           }
          ]
         },
         "layout": {
          "annotationdefaults": {
           "arrowcolor": "#2a3f5f",
           "arrowhead": 0,
           "arrowwidth": 1
          },
          "autotypenumbers": "strict",
          "coloraxis": {
           "colorbar": {
            "outlinewidth": 0,
            "ticks": ""
           }
          },
          "colorscale": {
           "diverging": [
            [
             0,
             "#8e0152"
            ],
            [
             0.1,
             "#c51b7d"
            ],
            [
             0.2,
             "#de77ae"
            ],
            [
             0.3,
             "#f1b6da"
            ],
            [
             0.4,
             "#fde0ef"
            ],
            [
             0.5,
             "#f7f7f7"
            ],
            [
             0.6,
             "#e6f5d0"
            ],
            [
             0.7,
             "#b8e186"
            ],
            [
             0.8,
             "#7fbc41"
            ],
            [
             0.9,
             "#4d9221"
            ],
            [
             1,
             "#276419"
            ]
           ],
           "sequential": [
            [
             0,
             "#0d0887"
            ],
            [
             0.1111111111111111,
             "#46039f"
            ],
            [
             0.2222222222222222,
             "#7201a8"
            ],
            [
             0.3333333333333333,
             "#9c179e"
            ],
            [
             0.4444444444444444,
             "#bd3786"
            ],
            [
             0.5555555555555556,
             "#d8576b"
            ],
            [
             0.6666666666666666,
             "#ed7953"
            ],
            [
             0.7777777777777778,
             "#fb9f3a"
            ],
            [
             0.8888888888888888,
             "#fdca26"
            ],
            [
             1,
             "#f0f921"
            ]
           ],
           "sequentialminus": [
            [
             0,
             "#0d0887"
            ],
            [
             0.1111111111111111,
             "#46039f"
            ],
            [
             0.2222222222222222,
             "#7201a8"
            ],
            [
             0.3333333333333333,
             "#9c179e"
            ],
            [
             0.4444444444444444,
             "#bd3786"
            ],
            [
             0.5555555555555556,
             "#d8576b"
            ],
            [
             0.6666666666666666,
             "#ed7953"
            ],
            [
             0.7777777777777778,
             "#fb9f3a"
            ],
            [
             0.8888888888888888,
             "#fdca26"
            ],
            [
             1,
             "#f0f921"
            ]
           ]
          },
          "colorway": [
           "#636efa",
           "#EF553B",
           "#00cc96",
           "#ab63fa",
           "#FFA15A",
           "#19d3f3",
           "#FF6692",
           "#B6E880",
           "#FF97FF",
           "#FECB52"
          ],
          "font": {
           "color": "#2a3f5f"
          },
          "geo": {
           "bgcolor": "white",
           "lakecolor": "white",
           "landcolor": "#E5ECF6",
           "showlakes": true,
           "showland": true,
           "subunitcolor": "white"
          },
          "hoverlabel": {
           "align": "left"
          },
          "hovermode": "closest",
          "mapbox": {
           "style": "light"
          },
          "paper_bgcolor": "white",
          "plot_bgcolor": "#E5ECF6",
          "polar": {
           "angularaxis": {
            "gridcolor": "white",
            "linecolor": "white",
            "ticks": ""
           },
           "bgcolor": "#E5ECF6",
           "radialaxis": {
            "gridcolor": "white",
            "linecolor": "white",
            "ticks": ""
           }
          },
          "scene": {
           "xaxis": {
            "backgroundcolor": "#E5ECF6",
            "gridcolor": "white",
            "gridwidth": 2,
            "linecolor": "white",
            "showbackground": true,
            "ticks": "",
            "zerolinecolor": "white"
           },
           "yaxis": {
            "backgroundcolor": "#E5ECF6",
            "gridcolor": "white",
            "gridwidth": 2,
            "linecolor": "white",
            "showbackground": true,
            "ticks": "",
            "zerolinecolor": "white"
           },
           "zaxis": {
            "backgroundcolor": "#E5ECF6",
            "gridcolor": "white",
            "gridwidth": 2,
            "linecolor": "white",
            "showbackground": true,
            "ticks": "",
            "zerolinecolor": "white"
           }
          },
          "shapedefaults": {
           "line": {
            "color": "#2a3f5f"
           }
          },
          "ternary": {
           "aaxis": {
            "gridcolor": "white",
            "linecolor": "white",
            "ticks": ""
           },
           "baxis": {
            "gridcolor": "white",
            "linecolor": "white",
            "ticks": ""
           },
           "bgcolor": "#E5ECF6",
           "caxis": {
            "gridcolor": "white",
            "linecolor": "white",
            "ticks": ""
           }
          },
          "title": {
           "x": 0.05
          },
          "xaxis": {
           "automargin": true,
           "gridcolor": "white",
           "linecolor": "white",
           "ticks": "",
           "title": {
            "standoff": 15
           },
           "zerolinecolor": "white",
           "zerolinewidth": 2
          },
          "yaxis": {
           "automargin": true,
           "gridcolor": "white",
           "linecolor": "white",
           "ticks": "",
           "title": {
            "standoff": 15
           },
           "zerolinecolor": "white",
           "zerolinewidth": 2
          }
         }
        },
        "title": {
         "text": "Parking and Charging Time Slots",
         "x": 0.5
        },
        "xaxis": {
         "anchor": "y",
         "domain": [
          0,
          1
         ],
         "type": "date"
        },
        "yaxis": {
         "anchor": "x",
         "categoryarray": [
          "Charging",
          "Parking"
         ],
         "categoryorder": "total ascending",
         "domain": [
          0,
          1
         ],
         "title": {
          "text": "Event"
         }
        }
       }
      },
      "text/html": [
       "<div>                            <div id=\"b778f8cb-3565-4622-aa97-824648807681\" class=\"plotly-graph-div\" style=\"height:525px; width:100%;\"></div>            <script type=\"text/javascript\">                require([\"plotly\"], function(Plotly) {                    window.PLOTLYENV=window.PLOTLYENV || {};                                    if (document.getElementById(\"b778f8cb-3565-4622-aa97-824648807681\")) {                    Plotly.newPlot(                        \"b778f8cb-3565-4622-aa97-824648807681\",                        [{\"alignmentgroup\":\"True\",\"base\":[420.0,540.0,1080.0,1230.0,759.6,992.1,1171.5,1194.9],\"hovertemplate\":\"Start=%{base}\\u003cbr\\u003eFinish=%{x}\\u003cbr\\u003eEvent=%{y}\\u003cextra\\u003e\\u003c\\u002fextra\\u003e\",\"legendgroup\":\"\",\"marker\":{\"color\":\"#636efa\",\"pattern\":{\"shape\":\"\"}},\"name\":\"\",\"offsetgroup\":\"\",\"orientation\":\"h\",\"showlegend\":false,\"textposition\":\"auto\",\"x\":[9e-05,0.00048,9e-05,9e-05,6.2e-05,9.4e-05,4.8e-05,6.2e-05],\"xaxis\":\"x\",\"y\":[\"Parking\",\"Charging\",\"Parking\",\"Charging\",\"Parking\",\"Charging\",\"Parking\",\"Charging\"],\"yaxis\":\"y\",\"type\":\"bar\"}],                        {\"template\":{\"data\":{\"histogram2dcontour\":[{\"type\":\"histogram2dcontour\",\"colorbar\":{\"outlinewidth\":0,\"ticks\":\"\"},\"colorscale\":[[0.0,\"#0d0887\"],[0.1111111111111111,\"#46039f\"],[0.2222222222222222,\"#7201a8\"],[0.3333333333333333,\"#9c179e\"],[0.4444444444444444,\"#bd3786\"],[0.5555555555555556,\"#d8576b\"],[0.6666666666666666,\"#ed7953\"],[0.7777777777777778,\"#fb9f3a\"],[0.8888888888888888,\"#fdca26\"],[1.0,\"#f0f921\"]]}],\"choropleth\":[{\"type\":\"choropleth\",\"colorbar\":{\"outlinewidth\":0,\"ticks\":\"\"}}],\"histogram2d\":[{\"type\":\"histogram2d\",\"colorbar\":{\"outlinewidth\":0,\"ticks\":\"\"},\"colorscale\":[[0.0,\"#0d0887\"],[0.1111111111111111,\"#46039f\"],[0.2222222222222222,\"#7201a8\"],[0.3333333333333333,\"#9c179e\"],[0.4444444444444444,\"#bd3786\"],[0.5555555555555556,\"#d8576b\"],[0.6666666666666666,\"#ed7953\"],[0.7777777777777778,\"#fb9f3a\"],[0.8888888888888888,\"#fdca26\"],[1.0,\"#f0f921\"]]}],\"heatmap\":[{\"type\":\"heatmap\",\"colorbar\":{\"outlinewidth\":0,\"ticks\":\"\"},\"colorscale\":[[0.0,\"#0d0887\"],[0.1111111111111111,\"#46039f\"],[0.2222222222222222,\"#7201a8\"],[0.3333333333333333,\"#9c179e\"],[0.4444444444444444,\"#bd3786\"],[0.5555555555555556,\"#d8576b\"],[0.6666666666666666,\"#ed7953\"],[0.7777777777777778,\"#fb9f3a\"],[0.8888888888888888,\"#fdca26\"],[1.0,\"#f0f921\"]]}],\"heatmapgl\":[{\"type\":\"heatmapgl\",\"colorbar\":{\"outlinewidth\":0,\"ticks\":\"\"},\"colorscale\":[[0.0,\"#0d0887\"],[0.1111111111111111,\"#46039f\"],[0.2222222222222222,\"#7201a8\"],[0.3333333333333333,\"#9c179e\"],[0.4444444444444444,\"#bd3786\"],[0.5555555555555556,\"#d8576b\"],[0.6666666666666666,\"#ed7953\"],[0.7777777777777778,\"#fb9f3a\"],[0.8888888888888888,\"#fdca26\"],[1.0,\"#f0f921\"]]}],\"contourcarpet\":[{\"type\":\"contourcarpet\",\"colorbar\":{\"outlinewidth\":0,\"ticks\":\"\"}}],\"contour\":[{\"type\":\"contour\",\"colorbar\":{\"outlinewidth\":0,\"ticks\":\"\"},\"colorscale\":[[0.0,\"#0d0887\"],[0.1111111111111111,\"#46039f\"],[0.2222222222222222,\"#7201a8\"],[0.3333333333333333,\"#9c179e\"],[0.4444444444444444,\"#bd3786\"],[0.5555555555555556,\"#d8576b\"],[0.6666666666666666,\"#ed7953\"],[0.7777777777777778,\"#fb9f3a\"],[0.8888888888888888,\"#fdca26\"],[1.0,\"#f0f921\"]]}],\"surface\":[{\"type\":\"surface\",\"colorbar\":{\"outlinewidth\":0,\"ticks\":\"\"},\"colorscale\":[[0.0,\"#0d0887\"],[0.1111111111111111,\"#46039f\"],[0.2222222222222222,\"#7201a8\"],[0.3333333333333333,\"#9c179e\"],[0.4444444444444444,\"#bd3786\"],[0.5555555555555556,\"#d8576b\"],[0.6666666666666666,\"#ed7953\"],[0.7777777777777778,\"#fb9f3a\"],[0.8888888888888888,\"#fdca26\"],[1.0,\"#f0f921\"]]}],\"mesh3d\":[{\"type\":\"mesh3d\",\"colorbar\":{\"outlinewidth\":0,\"ticks\":\"\"}}],\"scatter\":[{\"fillpattern\":{\"fillmode\":\"overlay\",\"size\":10,\"solidity\":0.2},\"type\":\"scatter\"}],\"parcoords\":[{\"type\":\"parcoords\",\"line\":{\"colorbar\":{\"outlinewidth\":0,\"ticks\":\"\"}}}],\"scatterpolargl\":[{\"type\":\"scatterpolargl\",\"marker\":{\"colorbar\":{\"outlinewidth\":0,\"ticks\":\"\"}}}],\"bar\":[{\"error_x\":{\"color\":\"#2a3f5f\"},\"error_y\":{\"color\":\"#2a3f5f\"},\"marker\":{\"line\":{\"color\":\"#E5ECF6\",\"width\":0.5},\"pattern\":{\"fillmode\":\"overlay\",\"size\":10,\"solidity\":0.2}},\"type\":\"bar\"}],\"scattergeo\":[{\"type\":\"scattergeo\",\"marker\":{\"colorbar\":{\"outlinewidth\":0,\"ticks\":\"\"}}}],\"scatterpolar\":[{\"type\":\"scatterpolar\",\"marker\":{\"colorbar\":{\"outlinewidth\":0,\"ticks\":\"\"}}}],\"histogram\":[{\"marker\":{\"pattern\":{\"fillmode\":\"overlay\",\"size\":10,\"solidity\":0.2}},\"type\":\"histogram\"}],\"scattergl\":[{\"type\":\"scattergl\",\"marker\":{\"colorbar\":{\"outlinewidth\":0,\"ticks\":\"\"}}}],\"scatter3d\":[{\"type\":\"scatter3d\",\"line\":{\"colorbar\":{\"outlinewidth\":0,\"ticks\":\"\"}},\"marker\":{\"colorbar\":{\"outlinewidth\":0,\"ticks\":\"\"}}}],\"scattermapbox\":[{\"type\":\"scattermapbox\",\"marker\":{\"colorbar\":{\"outlinewidth\":0,\"ticks\":\"\"}}}],\"scatterternary\":[{\"type\":\"scatterternary\",\"marker\":{\"colorbar\":{\"outlinewidth\":0,\"ticks\":\"\"}}}],\"scattercarpet\":[{\"type\":\"scattercarpet\",\"marker\":{\"colorbar\":{\"outlinewidth\":0,\"ticks\":\"\"}}}],\"carpet\":[{\"aaxis\":{\"endlinecolor\":\"#2a3f5f\",\"gridcolor\":\"white\",\"linecolor\":\"white\",\"minorgridcolor\":\"white\",\"startlinecolor\":\"#2a3f5f\"},\"baxis\":{\"endlinecolor\":\"#2a3f5f\",\"gridcolor\":\"white\",\"linecolor\":\"white\",\"minorgridcolor\":\"white\",\"startlinecolor\":\"#2a3f5f\"},\"type\":\"carpet\"}],\"table\":[{\"cells\":{\"fill\":{\"color\":\"#EBF0F8\"},\"line\":{\"color\":\"white\"}},\"header\":{\"fill\":{\"color\":\"#C8D4E3\"},\"line\":{\"color\":\"white\"}},\"type\":\"table\"}],\"barpolar\":[{\"marker\":{\"line\":{\"color\":\"#E5ECF6\",\"width\":0.5},\"pattern\":{\"fillmode\":\"overlay\",\"size\":10,\"solidity\":0.2}},\"type\":\"barpolar\"}],\"pie\":[{\"automargin\":true,\"type\":\"pie\"}]},\"layout\":{\"autotypenumbers\":\"strict\",\"colorway\":[\"#636efa\",\"#EF553B\",\"#00cc96\",\"#ab63fa\",\"#FFA15A\",\"#19d3f3\",\"#FF6692\",\"#B6E880\",\"#FF97FF\",\"#FECB52\"],\"font\":{\"color\":\"#2a3f5f\"},\"hovermode\":\"closest\",\"hoverlabel\":{\"align\":\"left\"},\"paper_bgcolor\":\"white\",\"plot_bgcolor\":\"#E5ECF6\",\"polar\":{\"bgcolor\":\"#E5ECF6\",\"angularaxis\":{\"gridcolor\":\"white\",\"linecolor\":\"white\",\"ticks\":\"\"},\"radialaxis\":{\"gridcolor\":\"white\",\"linecolor\":\"white\",\"ticks\":\"\"}},\"ternary\":{\"bgcolor\":\"#E5ECF6\",\"aaxis\":{\"gridcolor\":\"white\",\"linecolor\":\"white\",\"ticks\":\"\"},\"baxis\":{\"gridcolor\":\"white\",\"linecolor\":\"white\",\"ticks\":\"\"},\"caxis\":{\"gridcolor\":\"white\",\"linecolor\":\"white\",\"ticks\":\"\"}},\"coloraxis\":{\"colorbar\":{\"outlinewidth\":0,\"ticks\":\"\"}},\"colorscale\":{\"sequential\":[[0.0,\"#0d0887\"],[0.1111111111111111,\"#46039f\"],[0.2222222222222222,\"#7201a8\"],[0.3333333333333333,\"#9c179e\"],[0.4444444444444444,\"#bd3786\"],[0.5555555555555556,\"#d8576b\"],[0.6666666666666666,\"#ed7953\"],[0.7777777777777778,\"#fb9f3a\"],[0.8888888888888888,\"#fdca26\"],[1.0,\"#f0f921\"]],\"sequentialminus\":[[0.0,\"#0d0887\"],[0.1111111111111111,\"#46039f\"],[0.2222222222222222,\"#7201a8\"],[0.3333333333333333,\"#9c179e\"],[0.4444444444444444,\"#bd3786\"],[0.5555555555555556,\"#d8576b\"],[0.6666666666666666,\"#ed7953\"],[0.7777777777777778,\"#fb9f3a\"],[0.8888888888888888,\"#fdca26\"],[1.0,\"#f0f921\"]],\"diverging\":[[0,\"#8e0152\"],[0.1,\"#c51b7d\"],[0.2,\"#de77ae\"],[0.3,\"#f1b6da\"],[0.4,\"#fde0ef\"],[0.5,\"#f7f7f7\"],[0.6,\"#e6f5d0\"],[0.7,\"#b8e186\"],[0.8,\"#7fbc41\"],[0.9,\"#4d9221\"],[1,\"#276419\"]]},\"xaxis\":{\"gridcolor\":\"white\",\"linecolor\":\"white\",\"ticks\":\"\",\"title\":{\"standoff\":15},\"zerolinecolor\":\"white\",\"automargin\":true,\"zerolinewidth\":2},\"yaxis\":{\"gridcolor\":\"white\",\"linecolor\":\"white\",\"ticks\":\"\",\"title\":{\"standoff\":15},\"zerolinecolor\":\"white\",\"automargin\":true,\"zerolinewidth\":2},\"scene\":{\"xaxis\":{\"backgroundcolor\":\"#E5ECF6\",\"gridcolor\":\"white\",\"linecolor\":\"white\",\"showbackground\":true,\"ticks\":\"\",\"zerolinecolor\":\"white\",\"gridwidth\":2},\"yaxis\":{\"backgroundcolor\":\"#E5ECF6\",\"gridcolor\":\"white\",\"linecolor\":\"white\",\"showbackground\":true,\"ticks\":\"\",\"zerolinecolor\":\"white\",\"gridwidth\":2},\"zaxis\":{\"backgroundcolor\":\"#E5ECF6\",\"gridcolor\":\"white\",\"linecolor\":\"white\",\"showbackground\":true,\"ticks\":\"\",\"zerolinecolor\":\"white\",\"gridwidth\":2}},\"shapedefaults\":{\"line\":{\"color\":\"#2a3f5f\"}},\"annotationdefaults\":{\"arrowcolor\":\"#2a3f5f\",\"arrowhead\":0,\"arrowwidth\":1},\"geo\":{\"bgcolor\":\"white\",\"landcolor\":\"#E5ECF6\",\"subunitcolor\":\"white\",\"showland\":true,\"showlakes\":true,\"lakecolor\":\"white\"},\"title\":{\"x\":0.05},\"mapbox\":{\"style\":\"light\"}}},\"xaxis\":{\"anchor\":\"y\",\"domain\":[0.0,1.0],\"type\":\"date\"},\"yaxis\":{\"anchor\":\"x\",\"domain\":[0.0,1.0],\"title\":{\"text\":\"Event\"},\"categoryorder\":\"total ascending\",\"categoryarray\":[\"Charging\",\"Parking\"]},\"legend\":{\"tracegroupgap\":0},\"margin\":{\"t\":60},\"barmode\":\"overlay\",\"title\":{\"text\":\"Parking and Charging Time Slots\",\"x\":0.5}},                        {\"responsive\": true}                    ).then(function(){\n",
       "                            \n",
       "var gd = document.getElementById('b778f8cb-3565-4622-aa97-824648807681');\n",
       "var x = new MutationObserver(function (mutations, observer) {{\n",
       "        var display = window.getComputedStyle(gd).display;\n",
       "        if (!display || display === 'none') {{\n",
       "            console.log([gd, 'removed!']);\n",
       "            Plotly.purge(gd);\n",
       "            observer.disconnect();\n",
       "        }}\n",
       "}});\n",
       "\n",
       "// Listen for the removal of the full notebook cells\n",
       "var notebookContainer = gd.closest('#notebook-container');\n",
       "if (notebookContainer) {{\n",
       "    x.observe(notebookContainer, {childList: true});\n",
       "}}\n",
       "\n",
       "// Listen for the clearing of the current output cell\n",
       "var outputEl = gd.closest('.output');\n",
       "if (outputEl) {{\n",
       "    x.observe(outputEl, {childList: true});\n",
       "}}\n",
       "\n",
       "                        })                };                });            </script>        </div>"
      ]
     },
     "metadata": {},
     "output_type": "display_data"
    }
   ],
   "source": [
    "# Create a DataFrame for Gantt chart\n",
    "gantt_df = pd.DataFrame({\n",
    "    'Task': ['Parking', 'Charging'] * len(new_data),\n",
    "    'Start': new_data['ParkingStartTime'].tolist() + charging_time_predictions.tolist(),\n",
    "    'Finish': new_data['ParkingEndTime'].tolist() + charging_end_times.tolist(),\n",
    "})\n",
    "\n",
    "# Create Gantt chart using plotly express\n",
    "fig = px.timeline(gantt_df, x_start='Start', x_end='Finish', y='Task', category_orders={'Task': ['Parking', 'Charging']},\n",
    "                  labels={'Task': 'Event'})\n",
    "fig.update_yaxes(categoryorder='total ascending')\n",
    "fig.update_layout(title_text='Parking and Charging Time Slots', title_x=0.5)\n",
    "fig.show()"
   ]
  },
  {
   "cell_type": "code",
   "execution_count": null,
   "id": "20c16672-cc8c-4463-b667-972eb33c93ce",
   "metadata": {},
   "outputs": [],
   "source": []
  }
 ],
 "metadata": {
  "kernelspec": {
   "display_name": "Python 3 (ipykernel)",
   "language": "python",
   "name": "python3"
  },
  "language_info": {
   "codemirror_mode": {
    "name": "ipython",
    "version": 3
   },
   "file_extension": ".py",
   "mimetype": "text/x-python",
   "name": "python",
   "nbconvert_exporter": "python",
   "pygments_lexer": "ipython3",
   "version": "3.11.5"
  }
 },
 "nbformat": 4,
 "nbformat_minor": 5
}
